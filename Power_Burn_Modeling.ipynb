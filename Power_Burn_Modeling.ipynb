{
 "cells": [
  {
   "cell_type": "markdown",
   "metadata": {
    "collapsed": true
   },
   "source": [
    "### How we built Observ's Power Burn Forecast ###"
   ]
  },
  {
   "cell_type": "markdown",
   "metadata": {},
   "source": [
    "Let's assume you care about gas fundamentals. Then you have spent a lot of the past three years pondering about the forecast of power burn. How much demand is there going to be at this price level? How do I model the switching? \n",
    "\n",
    "Some people model with a rough regression built at national level. Some use power generation data from alternative fuel as a directional indicator. Some may even try borrowing plant-level stack model from the power traders.  Don’t worry. I have tried them all, too —  and it was tedious, exhausting, and not all that predictive.\n",
    "\n",
    "But what if we take the best out of all other methods and combine them together? This analysis is about a new approach in power burn modeling. The kind of model that brings you closer to understanding the gas market."
   ]
  },
  {
   "cell_type": "markdown",
   "metadata": {},
   "source": [
    "**Part 1 : Evaluate the methodologies**"
   ]
  },
  {
   "cell_type": "markdown",
   "metadata": {},
   "source": [
    "The more I play with EIA data, the more I love America. To have this much data public at such a granularity is amazing. This is a data scientists' wild dream. \n",
    "\n",
    "But it's not perfect. The API is buggy and finding the right data series for the analysis is tricky.  We comb through the electricity data but did not find any good leads. \n",
    "\n",
    "So we sat there, started to debate on each method:\n",
    "\n",
    "*Regression at national level* - RISKY. Regional dynamic has evolved so much in the past five years. Even splitting by EIA storage region is too broad. Modeling at state level is the way to go.\n",
    "\n",
    "*Using power generation data from alternative fuel as a directional indicator* - SPOTTY. Generation from renewables, hydro, and coal are helpful in explaining some changes. But it's same as playing Monday morning quarterback. Totally makes sense from hindsight but I wouldn't trade on it.\n",
    "\n",
    "*Using Power trader's plant-level stack model* - COSTLY. Licensing fees on the stack model runs in the six-figures. That doesn't even include internal headcount to run the model. The model has way too many variables. You can generate 100-page reports using stack models. Probably useful in project finance. But trading... no."
   ]
  },
  {
   "cell_type": "markdown",
   "metadata": {},
   "source": [
    "**Then we had an epiphany.** To get the merit of power stack model, we'll look at plant-level data. To get regional signals, we will model the burn by state.  To get signals from other fuels, we will make adjustments."
   ]
  },
  {
   "cell_type": "markdown",
   "metadata": {},
   "source": [
    "**Part 2 : Sort through power plants. Tried machine learning. But at this scale, humans are plenty enough for version 1 of the model**"
   ]
  },
  {
   "cell_type": "code",
   "execution_count": null,
   "metadata": {
    "collapsed": true
   },
   "outputs": [],
   "source": []
  },
  {
   "cell_type": "code",
   "execution_count": 4,
   "metadata": {
    "collapsed": false
   },
   "outputs": [
    {
     "name": "stdout",
     "output_type": "stream",
     "text": [
      "Temperature for station 53910 at houston, texas fetched\n"
     ]
    },
    {
     "ename": "ValueError",
     "evalue": "Expected object or value",
     "output_type": "error",
     "traceback": [
      "\u001b[0;31m---------------------------------------------------------------------------\u001b[0m",
      "\u001b[0;31mValueError\u001b[0m                                Traceback (most recent call last)",
      "\u001b[0;32m<ipython-input-4-c5190d1463bb>\u001b[0m in \u001b[0;36m<module>\u001b[0;34m()\u001b[0m\n\u001b[0;32m----> 1\u001b[0;31m \u001b[0;32mimport\u001b[0m \u001b[0mplant_analysis3\u001b[0m\u001b[0;34m\u001b[0m\u001b[0m\n\u001b[0m",
      "\u001b[0;32m/Users/wei/Desktop/201509/plant_analysis3.py\u001b[0m in \u001b[0;36m<module>\u001b[0;34m()\u001b[0m\n\u001b[1;32m    405\u001b[0m \u001b[0;34m\u001b[0m\u001b[0m\n\u001b[1;32m    406\u001b[0m \u001b[0;31m## Pull all EIA, temperature and price data together\u001b[0m\u001b[0;34m\u001b[0m\u001b[0;34m\u001b[0m\u001b[0m\n\u001b[0;32m--> 407\u001b[0;31m \u001b[0mdf_data\u001b[0m \u001b[0;34m=\u001b[0m \u001b[0mtemperature\u001b[0m\u001b[0;34m(\u001b[0m\u001b[0mwban_id\u001b[0m\u001b[0;34m)\u001b[0m\u001b[0;34m.\u001b[0m\u001b[0mmerge\u001b[0m\u001b[0;34m(\u001b[0m\u001b[0mplant_eg_btu\u001b[0m\u001b[0;34m(\u001b[0m\u001b[0mdf_current\u001b[0m\u001b[0;34m[\u001b[0m\u001b[0;34m'plant_id'\u001b[0m\u001b[0;34m]\u001b[0m\u001b[0;34m.\u001b[0m\u001b[0miloc\u001b[0m\u001b[0;34m[\u001b[0m\u001b[0;36m0\u001b[0m\u001b[0;34m]\u001b[0m\u001b[0;34m)\u001b[0m\u001b[0;34m,\u001b[0m\u001b[0mhow\u001b[0m \u001b[0;34m=\u001b[0m \u001b[0;34m'left'\u001b[0m\u001b[0;34m,\u001b[0m \u001b[0mon\u001b[0m \u001b[0;34m=\u001b[0m \u001b[0;34m[\u001b[0m\u001b[0;34m'month'\u001b[0m\u001b[0;34m,\u001b[0m\u001b[0;34m'year'\u001b[0m\u001b[0;34m]\u001b[0m\u001b[0;34m)\u001b[0m\u001b[0;34m\u001b[0m\u001b[0m\n\u001b[0m\u001b[1;32m    408\u001b[0m \u001b[0;32mfor\u001b[0m \u001b[0melement\u001b[0m \u001b[0;32min\u001b[0m \u001b[0mdf_current\u001b[0m\u001b[0;34m[\u001b[0m\u001b[0;34m'plant_id'\u001b[0m\u001b[0;34m]\u001b[0m\u001b[0;34m[\u001b[0m\u001b[0;36m1\u001b[0m\u001b[0;34m:\u001b[0m\u001b[0;34m]\u001b[0m\u001b[0;34m:\u001b[0m\u001b[0;34m\u001b[0m\u001b[0m\n\u001b[1;32m    409\u001b[0m     \u001b[0mdf_data\u001b[0m \u001b[0;34m=\u001b[0m \u001b[0mdf_data\u001b[0m\u001b[0;34m.\u001b[0m\u001b[0mmerge\u001b[0m\u001b[0;34m(\u001b[0m\u001b[0mplant_eg_btu\u001b[0m\u001b[0;34m(\u001b[0m\u001b[0melement\u001b[0m\u001b[0;34m)\u001b[0m\u001b[0;34m,\u001b[0m\u001b[0mhow\u001b[0m \u001b[0;34m=\u001b[0m \u001b[0;34m'left'\u001b[0m\u001b[0;34m,\u001b[0m \u001b[0mon\u001b[0m \u001b[0;34m=\u001b[0m \u001b[0;34m[\u001b[0m\u001b[0;34m'month'\u001b[0m\u001b[0;34m,\u001b[0m\u001b[0;34m'year'\u001b[0m\u001b[0;34m]\u001b[0m \u001b[0;34m)\u001b[0m\u001b[0;34m\u001b[0m\u001b[0m\n",
      "\u001b[0;32m/Users/wei/Desktop/201509/plant_analysis3.py\u001b[0m in \u001b[0;36mplant_eg_btu\u001b[0;34m(plant_id_input)\u001b[0m\n\u001b[1;32m     61\u001b[0m     \u001b[0mdefault_url\u001b[0m \u001b[0;34m=\u001b[0m \u001b[0;34m\"http://api.eia.gov/series/?api_key=45780D1A92A4F363815C75600ACF5748&series_id=\"\u001b[0m\u001b[0;34m\u001b[0m\u001b[0m\n\u001b[1;32m     62\u001b[0m     \u001b[0mseries_id\u001b[0m \u001b[0;34m=\u001b[0m \u001b[0;34m\"ELEC.PLANT.CONS_EG_BTU.\"\u001b[0m\u001b[0;34m+\u001b[0m \u001b[0mstr\u001b[0m\u001b[0;34m(\u001b[0m\u001b[0mplant_id_input\u001b[0m\u001b[0;34m)\u001b[0m \u001b[0;34m+\u001b[0m\u001b[0;34m\"-NG-ALL.M\"\u001b[0m\u001b[0;34m\u001b[0m\u001b[0m\n\u001b[0;32m---> 63\u001b[0;31m     \u001b[0meia_pull\u001b[0m \u001b[0;34m=\u001b[0m \u001b[0mpd\u001b[0m\u001b[0;34m.\u001b[0m\u001b[0mread_json\u001b[0m\u001b[0;34m(\u001b[0m\u001b[0mpath_or_buf\u001b[0m \u001b[0;34m=\u001b[0m \u001b[0mdefault_url\u001b[0m\u001b[0;34m+\u001b[0m\u001b[0mseries_id\u001b[0m\u001b[0;34m,\u001b[0m \u001b[0morient\u001b[0m \u001b[0;34m=\u001b[0m \u001b[0;34m'columns'\u001b[0m\u001b[0;34m,\u001b[0m \u001b[0mtyp\u001b[0m \u001b[0;34m=\u001b[0m \u001b[0;34m'series'\u001b[0m\u001b[0;34m)\u001b[0m\u001b[0;34m\u001b[0m\u001b[0m\n\u001b[0m\u001b[1;32m     64\u001b[0m \u001b[0;34m\u001b[0m\u001b[0m\n\u001b[1;32m     65\u001b[0m     \u001b[0;31m## Organize EIA data into dataframes\u001b[0m\u001b[0;34m\u001b[0m\u001b[0;34m\u001b[0m\u001b[0m\n",
      "\u001b[0;32m/Library/Python/2.7/site-packages/pandas/io/json.pyc\u001b[0m in \u001b[0;36mread_json\u001b[0;34m(path_or_buf, orient, typ, dtype, convert_axes, convert_dates, keep_default_dates, numpy, precise_float, date_unit)\u001b[0m\n\u001b[1;32m    203\u001b[0m         obj = SeriesParser(json, orient, dtype, convert_axes, convert_dates,\n\u001b[1;32m    204\u001b[0m                            \u001b[0mkeep_default_dates\u001b[0m\u001b[0;34m,\u001b[0m \u001b[0mnumpy\u001b[0m\u001b[0;34m,\u001b[0m \u001b[0mprecise_float\u001b[0m\u001b[0;34m,\u001b[0m\u001b[0;34m\u001b[0m\u001b[0m\n\u001b[0;32m--> 205\u001b[0;31m                            date_unit).parse()\n\u001b[0m\u001b[1;32m    206\u001b[0m \u001b[0;34m\u001b[0m\u001b[0m\n\u001b[1;32m    207\u001b[0m     \u001b[0;32mreturn\u001b[0m \u001b[0mobj\u001b[0m\u001b[0;34m\u001b[0m\u001b[0m\n",
      "\u001b[0;32m/Library/Python/2.7/site-packages/pandas/io/json.pyc\u001b[0m in \u001b[0;36mparse\u001b[0;34m(self)\u001b[0m\n\u001b[1;32m    264\u001b[0m \u001b[0;34m\u001b[0m\u001b[0m\n\u001b[1;32m    265\u001b[0m         \u001b[0;32melse\u001b[0m\u001b[0;34m:\u001b[0m\u001b[0;34m\u001b[0m\u001b[0m\n\u001b[0;32m--> 266\u001b[0;31m             \u001b[0mself\u001b[0m\u001b[0;34m.\u001b[0m\u001b[0m_parse_no_numpy\u001b[0m\u001b[0;34m(\u001b[0m\u001b[0;34m)\u001b[0m\u001b[0;34m\u001b[0m\u001b[0m\n\u001b[0m\u001b[1;32m    267\u001b[0m \u001b[0;34m\u001b[0m\u001b[0m\n\u001b[1;32m    268\u001b[0m         \u001b[0;32mif\u001b[0m \u001b[0mself\u001b[0m\u001b[0;34m.\u001b[0m\u001b[0mobj\u001b[0m \u001b[0;32mis\u001b[0m \u001b[0mNone\u001b[0m\u001b[0;34m:\u001b[0m\u001b[0;34m\u001b[0m\u001b[0m\n",
      "\u001b[0;32m/Library/Python/2.7/site-packages/pandas/io/json.pyc\u001b[0m in \u001b[0;36m_parse_no_numpy\u001b[0;34m(self)\u001b[0m\n\u001b[1;32m    416\u001b[0m         \u001b[0;32melse\u001b[0m\u001b[0;34m:\u001b[0m\u001b[0;34m\u001b[0m\u001b[0m\n\u001b[1;32m    417\u001b[0m             self.obj = Series(\n\u001b[0;32m--> 418\u001b[0;31m                 loads(json, precise_float=self.precise_float), dtype=None)\n\u001b[0m\u001b[1;32m    419\u001b[0m \u001b[0;34m\u001b[0m\u001b[0m\n\u001b[1;32m    420\u001b[0m     \u001b[0;32mdef\u001b[0m \u001b[0m_parse_numpy\u001b[0m\u001b[0;34m(\u001b[0m\u001b[0mself\u001b[0m\u001b[0;34m)\u001b[0m\u001b[0;34m:\u001b[0m\u001b[0;34m\u001b[0m\u001b[0m\n",
      "\u001b[0;31mValueError\u001b[0m: Expected object or value"
     ]
    }
   ],
   "source": [
    "import plant_analysis3"
   ]
  },
  {
   "cell_type": "markdown",
   "metadata": {},
   "source": [
    "**Part 3 : Combine them with some python magic.**"
   ]
  },
  {
   "cell_type": "markdown",
   "metadata": {},
   "source": [
    "Now we have all the gas-fired plants grouped into either price-sensitive or price-insensitive. It's time to bring in other variables: \n",
    "\n",
    "**Temperature**: All the daily temperature at each state.\n",
    "\n",
    "**Cash prices**: Physical settlements of each states using the hub that liquid. At least liquid enough for power plant operators to transact hedges.\n",
    "\n",
    "**Coal prices**: Using coal forward curve. We can spend three days arguing about how to treat coal prices and still have no consensus. But one thing is for sure - **Price-parity chart is useless.**\n",
    "\n",
    "**Hydro** - EIA hydro generation data . Pull in BPA data, etc to refine forecasts.\n",
    "\n",
    "**Nuclear outages** - NERC data."
   ]
  },
  {
   "cell_type": "markdown",
   "metadata": {},
   "source": [
    "Then it's python magic time! We use a lot of [Sci-kit learn](http://scikit-learn.org/stable/) nearest neighbor regression functions to find the relationship among all these variable with the power burn of the two seperate group for each state. "
   ]
  },
  {
   "cell_type": "markdown",
   "metadata": {},
   "source": [
    "**Part 4 : Add all the other pieces. Alternative fuel definitely matters. We account for them with arithmic from stack model.**"
   ]
  },
  {
   "cell_type": "markdown",
   "metadata": {},
   "source": [
    "After all the black magic of machine learning, we then come back to regular arithmic and start making some adjustments:\n",
    "\n",
    "1. New natural gas plant build\n",
    "2. Gas plant retirement\n",
    "3. Coal plant retirement\n",
    "4. Growth in renewables\n",
    "5. Wind generation\n",
    "6. Solar generation \n"
   ]
  },
  {
   "cell_type": "markdown",
   "metadata": {},
   "source": [
    "With about 15 variables and calculated at state level, the model may seem busy. But, phew, this is like a poem compared to power stack model."
   ]
  },
  {
   "cell_type": "markdown",
   "metadata": {},
   "source": [
    "**Part 5: The forecasts are out, but the fun has only begun...**"
   ]
  },
  {
   "cell_type": "markdown",
   "metadata": {},
   "source": [
    "Once the forecasts are out, it's how we use the forecasts that create the edge in the trades. Here are some ideas:\n",
    "1. Compare how the forecast has changed. Getting the trend right is so much useful than getting the precision. No one gets paid for nailing the power burn monthly to one decimal. You get paid when you get the surprises and direction right.\n",
    "2. Use the power burn number to forecast weekly storage number. You can either forecast the storage number with storage samples or you can forecast it with net S&D. Opportunities rise when the two method diverge.\n",
    "3. The relationship between all these variables and power burn is best assessed when we feed different scenerios. The model results are not distrubted normally and is asymetrical. It's always worth the ad hoc analysis when you spot assymetry in the modeling results.\n",
    "4. We can also try move the price curve around and observe how demand respond.\n",
    "\n",
    "These are just a few big ideas to leverage the power burn modeling. We can also drill down to the impact of specific variable, different grouping, etc. But that's for another time."
   ]
  },
  {
   "cell_type": "code",
   "execution_count": null,
   "metadata": {
    "collapsed": true
   },
   "outputs": [],
   "source": []
  }
 ],
 "metadata": {
  "kernelspec": {
   "display_name": "Python 2",
   "language": "python",
   "name": "python2"
  },
  "language_info": {
   "codemirror_mode": {
    "name": "ipython",
    "version": 2
   },
   "file_extension": ".py",
   "mimetype": "text/x-python",
   "name": "python",
   "nbconvert_exporter": "python",
   "pygments_lexer": "ipython2",
   "version": "2.7.10"
  }
 },
 "nbformat": 4,
 "nbformat_minor": 0
}
