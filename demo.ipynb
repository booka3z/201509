{
 "cells": [
  {
   "cell_type": "code",
   "execution_count": 74,
   "metadata": {
    "collapsed": true
   },
   "outputs": [],
   "source": [
    "import pandas as pd\n",
    "import seaborn as sns\n",
    "%matplotlib inline"
   ]
  },
  {
   "cell_type": "markdown",
   "metadata": {},
   "source": [
    "**Using power burn data, what is the average power burn by month?**"
   ]
  },
  {
   "cell_type": "code",
   "execution_count": 41,
   "metadata": {
    "collapsed": false
   },
   "outputs": [],
   "source": [
    "df = pd.read_csv('powerdata.csv', index_col = 'Date',parse_dates = [0], infer_datetime_format = True)"
   ]
  },
  {
   "cell_type": "code",
   "execution_count": 43,
   "metadata": {
    "collapsed": false,
    "scrolled": true
   },
   "outputs": [
    {
     "data": {
      "text/plain": [
       "Date\n",
       "2011-02-28    12248495.447893\n",
       "2011-03-31    11498633.375129\n",
       "2011-04-30    11880321.109533\n",
       "2011-05-31    12830893.324516\n",
       "2011-06-30    15572885.743000\n",
       "2011-07-31    19537446.210323\n",
       "2011-08-31    19606494.591935\n",
       "2011-09-30    15900761.777333\n",
       "2011-10-31    13697136.841290\n",
       "2011-11-30    13515092.022000\n",
       "2011-12-31    14761736.845161\n",
       "2012-01-31    15816463.030323\n",
       "2012-02-29    16885244.340690\n",
       "2012-03-31    16194767.099032\n",
       "2012-04-30    16837218.915000\n",
       "2012-05-31    18323736.806452\n",
       "2012-06-30    20670152.981000\n",
       "2012-07-31    24140384.812581\n",
       "2012-08-31    22833926.586452\n",
       "2012-09-30    19711391.877000\n",
       "2012-10-31    16415999.227097\n",
       "2012-11-30    14557592.877333\n",
       "2012-12-31    14458418.501613\n",
       "2013-01-31    15110251.420323\n",
       "2013-02-28    15394456.817500\n",
       "2013-03-31    14431065.894194\n",
       "2013-04-30    13658059.485333\n",
       "2013-05-31    14178096.852581\n",
       "2013-06-30    17189980.545333\n",
       "2013-07-31    20186943.073226\n",
       "2013-08-31    19902403.632903\n",
       "2013-09-30    17474327.495333\n",
       "2013-10-31    15621356.854516\n",
       "2013-11-30    14840894.864667\n",
       "2013-12-31    15743579.060645\n",
       "2014-01-31    16273922.294839\n",
       "2014-02-28    14664096.480000\n",
       "2014-03-31    13383005.821935\n",
       "2014-04-30    13389629.606667\n",
       "2014-05-31    15387855.835161\n",
       "2014-06-30    17235452.452000\n",
       "2014-07-31    19228625.781613\n",
       "2014-08-31    20478524.694839\n",
       "2014-09-30    18472530.537333\n",
       "2014-10-31    16816732.032581\n",
       "2014-11-30    14839530.156333\n",
       "2014-12-31    15126994.112581\n",
       "2015-01-31    16491697.616667\n",
       "Freq: M, Name: PowerBurn, dtype: float64"
      ]
     },
     "execution_count": 43,
     "metadata": {},
     "output_type": "execute_result"
    }
   ],
   "source": [
    "df['PowerBurn'].resample(\"M\", how='mean')"
   ]
  },
  {
   "cell_type": "markdown",
   "metadata": {},
   "source": [
    "**What is the sum of CDD between November 2011 and March 2012?**"
   ]
  },
  {
   "cell_type": "code",
   "execution_count": 47,
   "metadata": {
    "collapsed": false
   },
   "outputs": [
    {
     "data": {
      "text/plain": [
       "152.71935085299992"
      ]
     },
     "execution_count": 47,
     "metadata": {},
     "output_type": "execute_result"
    }
   ],
   "source": [
    "df['CDD'].loc[(df.index < '2012-04-01')& (df.index > '2011-10-31')].sum()"
   ]
  },
  {
   "cell_type": "markdown",
   "metadata": {},
   "source": [
    "**Plot the total production on Rex, where total production is the sum of receipts from 'Gathering Company' and 'Processing Plant'.**"
   ]
  },
  {
   "cell_type": "code",
   "execution_count": 49,
   "metadata": {
    "collapsed": true
   },
   "outputs": [],
   "source": [
    "# Pull flow data into dataframe\n",
    "df = pd.read_csv('flow.csv', index_col = 'Date',parse_dates = [0], infer_datetime_format = True)"
   ]
  },
  {
   "cell_type": "code",
   "execution_count": 52,
   "metadata": {
    "collapsed": false
   },
   "outputs": [
    {
     "data": {
      "text/plain": [
       "array(['TETCO', 'TGPL', 'NiS-TCO', 'NCoast', 'REX', 'PEPL', 'TGT', 'EGT',\n",
       "       'NGO', 'ANR', 'NiS-XRD', 'DOM'], dtype=object)"
      ]
     },
     "execution_count": 52,
     "metadata": {},
     "output_type": "execute_result"
    }
   ],
   "source": [
    "# Find the appropriate pipeline name\n",
    "df['Pipeline'].unique()"
   ]
  },
  {
   "cell_type": "code",
   "execution_count": 55,
   "metadata": {
    "collapsed": false
   },
   "outputs": [
    {
     "data": {
      "text/plain": [
       "array(['Interconnect', 'Production', 'LDC', 'Municipal', 'Compressor',\n",
       "       'Gathering Company', 'IntraState Connect', 'Processing Plant',\n",
       "       'Lateral', 'Demand', 'Power Plant', 'End User', 'Constraint',\n",
       "       'Storage Daily Inj/Withdraw', 'Segment', 'Pipeline Administration',\n",
       "       'Field Fuel'], dtype=object)"
      ]
     },
     "execution_count": 55,
     "metadata": {},
     "output_type": "execute_result"
    }
   ],
   "source": [
    "# Find the appropriate customer type\n",
    "df['CustomerType'].unique()"
   ]
  },
  {
   "cell_type": "code",
   "execution_count": 69,
   "metadata": {
    "collapsed": false
   },
   "outputs": [],
   "source": [
    "df2 = df[(df.Pipeline == 'REX') &\n",
    "       (df['CustomerType'].isin(['Gathering Company','Processing Plant','Production']) )]"
   ]
  },
  {
   "cell_type": "code",
   "execution_count": 75,
   "metadata": {
    "collapsed": false,
    "scrolled": true
   },
   "outputs": [
    {
     "data": {
      "text/plain": [
       "<matplotlib.axes._subplots.AxesSubplot at 0x11851bdd0>"
      ]
     },
     "execution_count": 75,
     "metadata": {},
     "output_type": "execute_result"
    },
    {
     "data": {
      "image/png": "[encoded data removed]",
      "text/plain": [
       "<matplotlib.figure.Figure at 0x115d91dd0>"
      ]
     },
     "metadata": {},
     "output_type": "display_data"
    }
   ],
   "source": [
    "# Plot the REX Zn3 Production\n",
    "df2['ScheduledVolume'].resample(\"D\", how = 'sum').plot()"
   ]
  },
  {
   "cell_type": "code",
   "execution_count": null,
   "metadata": {
    "collapsed": true
   },
   "outputs": [],
   "source": []
  }
 ],
 "metadata": {
  "kernelspec": {
   "display_name": "Python 2",
   "language": "python",
   "name": "python2"
  },
  "language_info": {
   "codemirror_mode": {
    "name": "ipython",
    "version": 2
   },
   "file_extension": ".py",
   "mimetype": "text/x-python",
   "name": "python",
   "nbconvert_exporter": "python",
   "pygments_lexer": "ipython2",
   "version": "2.7.10"
  }
 },
 "nbformat": 4,
 "nbformat_minor": 0
}
